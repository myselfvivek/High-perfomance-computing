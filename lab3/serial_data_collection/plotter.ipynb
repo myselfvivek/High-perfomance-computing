{
 "cells": [
  {
   "cell_type": "code",
   "execution_count": 1,
   "id": "bc5571c6",
   "metadata": {},
   "outputs": [
    {
     "ename": "ValueError",
     "evalue": "could not convert string to float: '      16   0   0      2.8E-7    1.65E-5\\n'",
     "output_type": "error",
     "traceback": [
      "\u001b[1;31m---------------------------------------------------------------------------\u001b[0m",
      "\u001b[1;31mValueError\u001b[0m                                Traceback (most recent call last)",
      "Cell \u001b[1;32mIn [1], line 20\u001b[0m\n\u001b[0;32m     18\u001b[0m \u001b[39mfor\u001b[39;00m line \u001b[39min\u001b[39;00m lines:\n\u001b[0;32m     19\u001b[0m     words \u001b[39m=\u001b[39m \u001b[39mmap\u001b[39m(\u001b[39mfloat\u001b[39m,line\u001b[39m.\u001b[39msplit(\u001b[39m'\u001b[39m\u001b[39m,\u001b[39m\u001b[39m'\u001b[39m))\n\u001b[1;32m---> 20\u001b[0m     words \u001b[39m=\u001b[39m \u001b[39mlist\u001b[39;49m(words)\n\u001b[0;32m     21\u001b[0m     \u001b[39m#change the below line according to problem size\u001b[39;00m\n\u001b[0;32m     22\u001b[0m     words[\u001b[39m0\u001b[39m] \u001b[39m=\u001b[39m \u001b[39mint\u001b[39m(math\u001b[39m.\u001b[39mlog(words[\u001b[39m0\u001b[39m],\u001b[39m2\u001b[39m))\u001b[39m-\u001b[39m\u001b[39m4\u001b[39m\n",
      "\u001b[1;31mValueError\u001b[0m: could not convert string to float: '      16   0   0      2.8E-7    1.65E-5\\n'"
     ]
    }
   ],
   "source": [
    "import matplotlib.pyplot as plt\n",
    "import math\n",
    "import numpy as np\n",
    "\n",
    "runs = 5\n",
    "procs = 1 #0,4,8,12,16\n",
    "prob =  14 #16,32,64,..,4096\n",
    "problem_size = [i for i in range(4,4+prob)]\n",
    " \n",
    "alg_time = [[0. for i in range(prob)] for j in range(procs)]\n",
    "e2e_time = [[0. for i in range(prob)] for j in range(procs)]\n",
    "# speedup = [[0. for i in range(prob)] for j in range(procs)]\n",
    "# efficiency = [[0. for i in range(prob)] for j in range(procs)]\n",
    "\n",
    "# file format : problem_size, processor, run_id, alg_time, e2e_time\n",
    "with open('A2data_cluster.txt','r') as file:\n",
    "    lines = file.readlines()\n",
    "    for line in lines:\n",
    "        words = map(float,line.split(','))\n",
    "        words = list(words)\n",
    "        #change the below line according to problem size\n",
    "        words[0] = int(math.log(words[0],2))-4\n",
    "        words[1] = int(words[1])//4\n",
    "        alg_time[words[1]][words[0]] += words[3]\n",
    "        e2e_time[words[1]][words[0]] += words[4]\n",
    "\n",
    "for i in range(procs):\n",
    "    for j in range(prob):\n",
    "        alg_time[i][j] = alg_time[i][j]/runs\n",
    "\n",
    "# for i in range(procs):\n",
    "#     for j in range(prob):\n",
    "#         speedup[i][j] = alg_time[0][j]/alg_time[i][j]\n",
    "#         if i!=0:\n",
    "#             efficiency[i][j] = speedup[i][j]/(4*i)\n",
    "\n",
    "plt.figure()\n",
    "plt.grid()\n",
    "plt.xlabel('logN')\n",
    "plt.ylabel('Mean Execution Time')\n",
    "for i in range(procs):\n",
    "    plt.plot(problem_size,alg_time[i],'o-',label='serial runtime')\n",
    "    plt.legend()\n",
    "\n",
    "# plt.figure()\n",
    "# plt.grid()\n",
    "# plt.xlabel('logN')\n",
    "# plt.ylabel('Speedup')\n",
    "# for i in range(procs):\n",
    "#     plt.plot(problem_size,speedup[i],label=str(4*i)+' threads')\n",
    "#     plt.legend()\n",
    "# plt.figure()\n",
    "# plt.grid()\n",
    "# plt.xlabel('logN')\n",
    "# plt.ylabel('Efficiency')\n",
    "# for i in range(procs):\n",
    "#     plt.plot(problem_size,efficiency[i],label=str(4*i)+' threads')\n",
    "#     plt.legend()\n"
   ]
  },
  {
   "cell_type": "code",
   "execution_count": null,
   "id": "952ce6f2",
   "metadata": {},
   "outputs": [],
   "source": []
  }
 ],
 "metadata": {
  "kernelspec": {
   "display_name": "Python 3",
   "language": "python",
   "name": "python3"
  },
  "language_info": {
   "codemirror_mode": {
    "name": "ipython",
    "version": 3
   },
   "file_extension": ".py",
   "mimetype": "text/x-python",
   "name": "python",
   "nbconvert_exporter": "python",
   "pygments_lexer": "ipython3",
   "version": "3.11.0"
  },
  "vscode": {
   "interpreter": {
    "hash": "d6d1081be782d61dd373a7bf767ce3fe91aa0ec1919f2d9b85f9d2d2395ed84b"
   }
  }
 },
 "nbformat": 4,
 "nbformat_minor": 5
}
