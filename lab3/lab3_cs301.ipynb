{
  "cells": [
    {
      "cell_type": "code",
      "execution_count": null,
      "metadata": {
        "id": "9k9tamiIIJ_R"
      },
      "outputs": [],
      "source": [
        "# Convert a comma separate txt file into dataframe\n",
        "\n",
        "import pandas as pd\n",
        "import numpy as np\n",
        "import matplotlib.pyplot as plt\n",
        "import seaborn as sns\n",
        "import statsmodels.api as sm\n",
        "from statsmodels.formula.api import ols\n",
        "from statsmodels.stats.anova import anova_lm\n",
        "\n",
        "# Read the file\n",
        "df1 = pd.read_csv('cluster_int_3.txt', sep=',', header=None)\n",
        "# print(df)\n",
        "# Drop the last column\n",
        "# df = df.drop(df.columns[5], axis=1)\n",
        "# print(df)\n",
        "# # Set the column names as Problem Size, Number of Processors, Run ID, Core Algorithm Time, Total Execution Time\n",
        "df1.columns = ['Problem Size', 'Number of Processors', 'Run ID', 'Core Algorithm Time', 'Total Execution Time']\n",
        "# print(df)"
      ]
    },
    {
      "cell_type": "code",
      "execution_count": null,
      "metadata": {
        "colab": {
          "base_uri": "https://localhost:8080/"
        },
        "id": "E1_YjasGIJ_U",
        "outputId": "1ccace03-5124-4537-e335-83dc0f50805c"
      },
      "outputs": [
        {
          "output_type": "stream",
          "name": "stdout",
          "text": [
            "[    16     32     64    128    256    512   1024   2048   4096   8192\n",
            "  16384  32768  65536 131072]\n"
          ]
        }
      ],
      "source": [
        "# Make the array of values 2^4 to 2^26 with step multiplication of 2\n",
        "\n",
        "# Problem Size\n",
        "x = np.array([2**i for i in range(2, int(len(df1)/5)+4, 1)])\n",
        "print(x)"
      ]
    },
    {
      "cell_type": "code",
      "execution_count": null,
      "metadata": {
        "id": "bVjUoArxIJ_V"
      },
      "outputs": [],
      "source": [
        "# Declare a dataframe with Column name as Problem Size and Average Core Algorithm Time and  Average Total Execution Time\n",
        "\n",
        "dfn1 = pd.DataFrame(columns=['PROB_NAME','MACHINE','PROB_SIZE', 'ALG_TIME', 'TOTAL_TIME'])\n",
        "problem_size = []\n",
        "avg_core_time = []\n",
        "avg_total_time = []"
      ]
    },
    {
      "cell_type": "code",
      "execution_count": null,
      "metadata": {
        "colab": {
          "base_uri": "https://localhost:8080/"
        },
        "id": "IUVIw2RmIJ_V",
        "outputId": "a2dca190-af92-4387-8431-f88ec526bd59"
      },
      "outputs": [
        {
          "output_type": "stream",
          "name": "stdout",
          "text": [
            "     PROB_NAME  MACHINE  PROB_SIZE   ALG_TIME  TOTAL_TIME\n",
            "0   QUICK_SORT  CLUSTER         16   0.000002    0.000063\n",
            "1   QUICK_SORT  CLUSTER         32   0.000006    0.000063\n",
            "2   QUICK_SORT  CLUSTER         64   0.000021    0.000075\n",
            "3   QUICK_SORT  CLUSTER        128   0.000066    0.000125\n",
            "4   QUICK_SORT  CLUSTER        256   0.000209    0.000262\n",
            "5   QUICK_SORT  CLUSTER        512   0.000884    0.000943\n",
            "6   QUICK_SORT  CLUSTER       1024   0.003156    0.003215\n",
            "7   QUICK_SORT  CLUSTER       2048   0.012300    0.012366\n",
            "8   QUICK_SORT  CLUSTER       4096   0.044776    0.044857\n",
            "9   QUICK_SORT  CLUSTER       8192   0.136101    0.136184\n",
            "10  QUICK_SORT  CLUSTER      16384   0.506641    0.506748\n",
            "11  QUICK_SORT  CLUSTER      32768   2.017098    2.017259\n",
            "12  QUICK_SORT  CLUSTER      65536   8.109372    8.109702\n",
            "13  QUICK_SORT  CLUSTER     131072  32.559836   32.560535\n"
          ]
        }
      ],
      "source": [
        "# Loop over values of x and find the subset of dataframe where Problem Size is equal to x[i]\n",
        "\n",
        "for i in x:\n",
        "    dft = df1[df1['Problem Size'] == i]\n",
        "    # Take the average of the values of Core Algorithm Time\n",
        "    avg_core = np.mean(dft['Core Algorithm Time'])\n",
        "    # Take the average of the values of Total Execution Time\n",
        "    avg_total = np.mean(dft['Total Execution Time'])\n",
        "    # Append the values of x[i], avg_core, avg_total to the dataframe df_op\n",
        "    # df_op = df_op.append({'Problem Size': i, 'Average Core Algorithm Time': avg_core, 'Average Total Execution Time': avg_total}, ignore_index=True)\n",
        "    problem_size.append(i)\n",
        "    avg_core_time.append(avg_core)\n",
        "    avg_total_time.append(avg_total)\n",
        "\n",
        "# Set the values of problem_size, avg_core_time, avg_total_time to the dataframe df_op\n",
        "prob_name = ['QUICK_SORT']*14\n",
        "mach_name = ['CLUSTER']*14\n",
        "dfn1['PROB_NAME'] = prob_name\n",
        "dfn1['MACHINE'] = mach_name\n",
        "dfn1['PROB_SIZE'] = problem_size\n",
        "dfn1['ALG_TIME'] = avg_core_time\n",
        "dfn1['TOTAL_TIME'] = avg_total_time\n",
        "print(dfn1)"
      ]
    },
    {
      "cell_type": "code",
      "source": [
        "# Plot the graph of Average Core Algorithm Time vs Problem Size on the axis of powers of 2\n",
        "plt.semilogx(dfn1['PROB_SIZE'], dfn1['ALG_TIME'],'o-',label='serial runtime')\n",
        "plt.xscale('log', basex=2)\n",
        "plt.xlabel('Problem Size')\n",
        "plt.ylabel('Average Core Alg Time')\n",
        "plt.legend()\n",
        "plt.grid()\n",
        "plt.show()"
      ],
      "metadata": {
        "colab": {
          "base_uri": "https://localhost:8080/",
          "height": 283
        },
        "id": "j8VZfWuAJB1n",
        "outputId": "4de4e070-5e0f-4cf2-e878-fca519f97ef7"
      },
      "execution_count": null,
      "outputs": [
        {
          "output_type": "display_data",
          "data": {
            "text/plain": [
              "<Figure size 432x288 with 1 Axes>"
            ],
            "image/png": "[encoded data removed]"
          },
          "metadata": {
            "needs_background": "light"
          }
        }
      ]
    },
    {
      "cell_type": "code",
      "source": [
        "#plot for total time\n",
        "plt.plot(dfn1['PROB_SIZE'], dfn1['TOTAL_TIME'],'o-',label='serial runtime')\n",
        "plt.xscale('log', basex=2)\n",
        "plt.xlabel('Problem Size')\n",
        "plt.ylabel('Average Total Execution Time')\n",
        "plt.legend()\n",
        "plt.grid()\n",
        "plt.show()"
      ],
      "metadata": {
        "colab": {
          "base_uri": "https://localhost:8080/",
          "height": 283
        },
        "id": "BT0CCkA5UQ2u",
        "outputId": "ecf3cbf5-5b86-4da3-f869-45a9239824ad"
      },
      "execution_count": null,
      "outputs": [
        {
          "output_type": "display_data",
          "data": {
            "text/plain": [
              "<Figure size 432x288 with 1 Axes>"
            ],
            "image/png": "[encoded data removed]"
          },
          "metadata": {
            "needs_background": "light"
          }
        }
      ]
    },
    {
      "cell_type": "code",
      "source": [
        "tep = [0]*3\n",
        "print(tep)"
      ],
      "metadata": {
        "colab": {
          "base_uri": "https://localhost:8080/"
        },
        "id": "MC8dCCsYe3sx",
        "outputId": "78cc4ccf-eebc-483b-9201-d93aaf8684bd"
      },
      "execution_count": null,
      "outputs": [
        {
          "output_type": "stream",
          "name": "stdout",
          "text": [
            "[0, 0, 0]\n"
          ]
        }
      ]
    },
    {
      "cell_type": "code",
      "source": [
        "mach_name = ['Lab-207']*23 + ['Cluster'*23]*23\n",
        "# print(mach_name)"
      ],
      "metadata": {
        "id": "rbeA7iJvX9Ll"
      },
      "execution_count": null,
      "outputs": []
    },
    {
      "cell_type": "code",
      "source": [],
      "metadata": {
        "id": "AAcjxL07j4XO"
      },
      "execution_count": null,
      "outputs": []
    },
    {
      "cell_type": "code",
      "source": [],
      "metadata": {
        "id": "MPNuKOEjfwnw"
      },
      "execution_count": null,
      "outputs": []
    },
    {
      "cell_type": "code",
      "execution_count": null,
      "metadata": {
        "id": "PQQ3JQVkj6Fg"
      },
      "outputs": [],
      "source": [
        "# Convert a comma separate txt file into dataframe\n",
        "\n",
        "import pandas as pd\n",
        "import numpy as np\n",
        "import matplotlib.pyplot as plt\n",
        "import seaborn as sns\n",
        "import statsmodels.api as sm\n",
        "from statsmodels.formula.api import ols\n",
        "from statsmodels.stats.anova import anova_lm\n",
        "\n",
        "# Read the file\n",
        "df3 = pd.read_csv('data_c1.txt', sep=',', header=None)\n",
        "# print(df)\n",
        "# Drop the last column\n",
        "# df = df.drop(df.columns[5], axis=1)\n",
        "# print(df)\n",
        "# # Set the column names as Problem Size, Number of Processors, Run ID, Core Algorithm Time, Total Execution Time\n",
        "df3.columns = ['Problem Size', 'Number of Processors', 'Run ID', 'Core Algorithm Time', 'Total Execution Time']\n",
        "# print(df)"
      ]
    },
    {
      "cell_type": "code",
      "execution_count": null,
      "metadata": {
        "colab": {
          "base_uri": "https://localhost:8080/"
        },
        "outputId": "1079eb91-4837-4281-9542-6508ba7e07ac",
        "id": "TqoN1FHqj6Fh"
      },
      "outputs": [
        {
          "output_type": "stream",
          "name": "stdout",
          "text": [
            "[    16     32     64    128    256    512   1024   2048   4096   8192\n",
            "  16384  32768  65536 131072]\n"
          ]
        }
      ],
      "source": [
        "# Make the array of values 2^4 to 2^26 with step multiplication of 2\n",
        "\n",
        "# Problem Size\n",
        "x = np.array([2**i for i in range(2, int(len(df1)/5)+4, 1)])\n",
        "print(x)"
      ]
    },
    {
      "cell_type": "code",
      "execution_count": null,
      "metadata": {
        "id": "DWIBQL46j6Fh"
      },
      "outputs": [],
      "source": [
        "# Declare a dataframe with Column name as Problem Size and Average Core Algorithm Time and  Average Total Execution Time\n",
        "\n",
        "dfn3 = pd.DataFrame(columns=['PROB_NAME','MACHINE','PROB_SIZE', 'ALG_TIME', 'TOTAL_TIME'])\n",
        "problem_size = []\n",
        "avg_core_time = []\n",
        "avg_total_time = []"
      ]
    },
    {
      "cell_type": "code",
      "execution_count": null,
      "metadata": {
        "colab": {
          "base_uri": "https://localhost:8080/"
        },
        "outputId": "5b233bf4-c5fe-4e25-a468-9a4d2825c56b",
        "id": "8l75jw1Dj6Fi"
      },
      "outputs": [
        {
          "output_type": "stream",
          "name": "stdout",
          "text": [
            "     PROB_NAME MACHINE  PROB_SIZE   ALG_TIME  TOTAL_TIME\n",
            "0   QUICK_SORT  LAB207         16   0.000001    0.000012\n",
            "1   QUICK_SORT  LAB207         32   0.000004    0.000014\n",
            "2   QUICK_SORT  LAB207         64   0.000014    0.000024\n",
            "3   QUICK_SORT  LAB207        128   0.000044    0.000054\n",
            "4   QUICK_SORT  LAB207        256   0.000167    0.000177\n",
            "5   QUICK_SORT  LAB207        512   0.000649    0.000662\n",
            "6   QUICK_SORT  LAB207       1024   0.002432    0.002447\n",
            "7   QUICK_SORT  LAB207       2048   0.009162    0.009181\n",
            "8   QUICK_SORT  LAB207       4096   0.034104    0.034130\n",
            "9   QUICK_SORT  LAB207       8192   0.122756    0.122797\n",
            "10  QUICK_SORT  LAB207      16384   0.467524    0.467594\n",
            "11  QUICK_SORT  LAB207      32768   1.862144    1.862277\n",
            "12  QUICK_SORT  LAB207      65536   7.437034    7.437294\n",
            "13  QUICK_SORT  LAB207     131072  29.783597   29.784129\n"
          ]
        }
      ],
      "source": [
        "# Loop over values of x and find the subset of dataframe where Problem Size is equal to x[i]\n",
        "\n",
        "for i in x:\n",
        "    dft = df3[df3['Problem Size'] == i]\n",
        "    # Take the average of the values of Core Algorithm Time\n",
        "    avg_core = np.mean(dft['Core Algorithm Time'])\n",
        "    # Take the average of the values of Total Execution Time\n",
        "    avg_total = np.mean(dft['Total Execution Time'])\n",
        "    # Append the values of x[i], avg_core, avg_total to the dataframe df_op\n",
        "    # df_op = df_op.append({'Problem Size': i, 'Average Core Algorithm Time': avg_core, 'Average Total Execution Time': avg_total}, ignore_index=True)\n",
        "    problem_size.append(i)\n",
        "    avg_core_time.append(avg_core)\n",
        "    avg_total_time.append(avg_total)\n",
        "\n",
        "# Set the values of problem_size, avg_core_time, avg_total_time to the dataframe df_op\n",
        "prob_name = ['QUICK_SORT']*14\n",
        "mach_name = ['LAB207']*14\n",
        "dfn3['PROB_NAME'] = prob_name\n",
        "dfn3['MACHINE'] = mach_name\n",
        "dfn3['PROB_SIZE'] = problem_size\n",
        "dfn3['ALG_TIME'] = avg_core_time\n",
        "dfn3['TOTAL_TIME'] = avg_total_time\n",
        "print(dfn3)"
      ]
    },
    {
      "cell_type": "code",
      "source": [],
      "metadata": {
        "id": "6giDfYBnoV5S"
      },
      "execution_count": null,
      "outputs": []
    },
    {
      "cell_type": "code",
      "source": [
        "# Plot the graph of Average Core Algorithm Time vs Problem Size on the axis of powers of 2\n",
        "plt.semilogx(dfn3['PROB_SIZE'], dfn3['ALG_TIME'],'o-',label='serial runtime')\n",
        "plt.xscale('log', basex=2)\n",
        "plt.xlabel('Problem Size')\n",
        "plt.ylabel('Average Core Alg Time')\n",
        "plt.legend()\n",
        "plt.grid()\n",
        "plt.show()"
      ],
      "metadata": {
        "colab": {
          "base_uri": "https://localhost:8080/",
          "height": 283
        },
        "outputId": "16b2c7ac-7d6d-4537-955d-42275f1edcac",
        "id": "etkZ55bTolde"
      },
      "execution_count": null,
      "outputs": [
        {
          "output_type": "display_data",
          "data": {
            "text/plain": [
              "<Figure size 432x288 with 1 Axes>"
            ],
            "image/png": "[encoded data removed]"
          },
          "metadata": {
            "needs_background": "light"
          }
        }
      ]
    },
    {
      "cell_type": "code",
      "source": [
        "#plot for total time\n",
        "plt.plot(dfn3['PROB_SIZE'], dfn3['TOTAL_TIME'],'o-',label='serial runtime')\n",
        "plt.xscale('log', basex=2)\n",
        "plt.xlabel('Problem Size')\n",
        "plt.ylabel('Average Total Execution Time')\n",
        "plt.legend()\n",
        "plt.grid()\n",
        "plt.show()"
      ],
      "metadata": {
        "colab": {
          "base_uri": "https://localhost:8080/",
          "height": 283
        },
        "outputId": "2afb0b66-ef53-4684-d8ba-d494189b3f7d",
        "id": "kSPi2lRAoldf"
      },
      "execution_count": null,
      "outputs": [
        {
          "output_type": "display_data",
          "data": {
            "text/plain": [
              "<Figure size 432x288 with 1 Axes>"
            ],
            "image/png": "[encoded data removed]"
          },
          "metadata": {
            "needs_background": "light"
          }
        }
      ]
    },
    {
      "cell_type": "code",
      "source": [],
      "metadata": {
        "id": "ctUEPEKooVyD"
      },
      "execution_count": null,
      "outputs": []
    },
    {
      "cell_type": "code",
      "source": [],
      "metadata": {
        "id": "vQHsVpMkoVpn"
      },
      "execution_count": null,
      "outputs": []
    },
    {
      "cell_type": "code",
      "source": [
        "dfq1 = dfn3.copy()\n",
        "dfq1 = dfq1.append(dfn1,ignore_index=True)\n",
        "print(dfq1)"
      ],
      "metadata": {
        "colab": {
          "base_uri": "https://localhost:8080/"
        },
        "id": "ghOpv7eIlFoO",
        "outputId": "f3a7f102-6c99-4e90-97f2-83fc8bf35885"
      },
      "execution_count": null,
      "outputs": [
        {
          "output_type": "stream",
          "name": "stdout",
          "text": [
            "     PROB_NAME  MACHINE  PROB_SIZE   ALG_TIME  TOTAL_TIME\n",
            "0   QUICK_SORT   LAB207         16   0.000001    0.000012\n",
            "1   QUICK_SORT   LAB207         32   0.000004    0.000014\n",
            "2   QUICK_SORT   LAB207         64   0.000014    0.000024\n",
            "3   QUICK_SORT   LAB207        128   0.000044    0.000054\n",
            "4   QUICK_SORT   LAB207        256   0.000167    0.000177\n",
            "5   QUICK_SORT   LAB207        512   0.000649    0.000662\n",
            "6   QUICK_SORT   LAB207       1024   0.002432    0.002447\n",
            "7   QUICK_SORT   LAB207       2048   0.009162    0.009181\n",
            "8   QUICK_SORT   LAB207       4096   0.034104    0.034130\n",
            "9   QUICK_SORT   LAB207       8192   0.122756    0.122797\n",
            "10  QUICK_SORT   LAB207      16384   0.467524    0.467594\n",
            "11  QUICK_SORT   LAB207      32768   1.862144    1.862277\n",
            "12  QUICK_SORT   LAB207      65536   7.437034    7.437294\n",
            "13  QUICK_SORT   LAB207     131072  29.783597   29.784129\n",
            "14  QUICK_SORT  CLUSTER         16   0.000002    0.000063\n",
            "15  QUICK_SORT  CLUSTER         32   0.000006    0.000063\n",
            "16  QUICK_SORT  CLUSTER         64   0.000021    0.000075\n",
            "17  QUICK_SORT  CLUSTER        128   0.000066    0.000125\n",
            "18  QUICK_SORT  CLUSTER        256   0.000209    0.000262\n",
            "19  QUICK_SORT  CLUSTER        512   0.000884    0.000943\n",
            "20  QUICK_SORT  CLUSTER       1024   0.003156    0.003215\n",
            "21  QUICK_SORT  CLUSTER       2048   0.012300    0.012366\n",
            "22  QUICK_SORT  CLUSTER       4096   0.044776    0.044857\n",
            "23  QUICK_SORT  CLUSTER       8192   0.136101    0.136184\n",
            "24  QUICK_SORT  CLUSTER      16384   0.506641    0.506748\n",
            "25  QUICK_SORT  CLUSTER      32768   2.017098    2.017259\n",
            "26  QUICK_SORT  CLUSTER      65536   8.109372    8.109702\n",
            "27  QUICK_SORT  CLUSTER     131072  32.559836   32.560535\n"
          ]
        }
      ]
    },
    {
      "cell_type": "code",
      "source": [
        "dfq1.to_csv('dfq3.csv',index=False)"
      ],
      "metadata": {
        "id": "6dguyz7OmXbU"
      },
      "execution_count": null,
      "outputs": []
    },
    {
      "cell_type": "code",
      "source": [],
      "metadata": {
        "id": "k0Y649qenOz8"
      },
      "execution_count": null,
      "outputs": []
    }
  ],
  "metadata": {
    "kernelspec": {
      "display_name": "base",
      "language": "python",
      "name": "python3"
    },
    "language_info": {
      "codemirror_mode": {
        "name": "ipython",
        "version": 3
      },
      "file_extension": ".py",
      "mimetype": "text/x-python",
      "name": "python",
      "nbconvert_exporter": "python",
      "pygments_lexer": "ipython3",
      "version": "3.9.12 (main, Apr  4 2022, 05:22:27) [MSC v.1916 64 bit (AMD64)]"
    },
    "orig_nbformat": 4,
    "vscode": {
      "interpreter": {
        "hash": "5ae58900cfbb8c43ab3495913814b7cf26024f51651a94ce8bf64d6111688e8d"
      }
    },
    "colab": {
      "provenance": []
    }
  },
  "nbformat": 4,
  "nbformat_minor": 0
}